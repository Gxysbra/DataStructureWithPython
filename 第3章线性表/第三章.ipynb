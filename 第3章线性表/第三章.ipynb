{
 "cells": [
  {
   "cell_type": "markdown",
   "metadata": {},
   "source": [
    "# 第三章    线性表"
   ]
  },
  {
   "cell_type": "markdown",
   "metadata": {},
   "source": [
    "**1. 检查本章开始定义的线性表抽象数据类型和3.3节定义的链表类LList，给LList加入在抽象数据类型中有定义，但LList类没定义的所有操作。**"
   ]
  },
  {
   "cell_type": "markdown",
   "metadata": {},
   "source": [
    "     线性表抽象数据类型为：\n",
    "     ADT List:\n",
    "         List(self)                #表构造操作，创建一个新表\n",
    "         is_empty(self)            #判断self是否为一个空表\n",
    "         len(self)                 #获得self的长度\n",
    "         prepend(self, elem)       #将元素elem加入表中作为第一个元素\n",
    "         append(self, elem)        #将元素elem加入表中作为最后一个元素\n",
    "         insert(self, elem, i)     #将元素elem加入表中作为第i个元素，其他元素的顺序不变\n",
    "         del_first(self)           #删除表中的首元素\n",
    "         del_last(self)            #删除表中的尾元素\n",
    "         del(self, i)              #删除表中第i个元素\n",
    "         search(self, elem)        #查找元素elem在表中出现的位置，不出现时返回-1\n",
    "         forall(self, op)          #对表中的每个元素执行操作op"
   ]
  },
  {
   "cell_type": "code",
   "execution_count": 40,
   "metadata": {
    "collapsed": true
   },
   "outputs": [],
   "source": [
    "class LNode:\n",
    "    def __init__(self, elem, next_=None):\n",
    "        self.elem = elem\n",
    "        self.next = next_\n",
    "\n",
    "class LinkedListUnderflow(ValueError):\n",
    "    pass\n",
    "        \n",
    "class LList:\n",
    "    '''单链表类'''\n",
    "    def __init__(self):\n",
    "        self._head = None\n",
    "    \n",
    "    def is_empty(self):\n",
    "        '''判断表是否为空'''\n",
    "        return self._head is None\n",
    "    \n",
    "    def prepend(self, elem):\n",
    "        '''首端加入元素'''\n",
    "        self._head = LNode(elem, self._head)\n",
    "    \n",
    "    def pop(self):\n",
    "        '''首端删除表元素并返回'''\n",
    "        if self._head is None:\n",
    "            raise LinkedListUnderflow('in pop')\n",
    "        e = self._head.elem\n",
    "        self._head = self._head.next\n",
    "        return e\n",
    "        \n",
    "    def append(self, elem):\n",
    "        '''尾端加入元素'''\n",
    "        if self._head is None:\n",
    "            self._head = LNode(elem)\n",
    "            return\n",
    "        p = self._head\n",
    "        while p.next is not None:\n",
    "            p = p.next\n",
    "        p.next = LNode(elem)\n",
    "\n",
    "    def pop_last(self):\n",
    "        '''尾端删除元素并返回'''\n",
    "        if self._head is None:\n",
    "            raise LinkedListUnderflow('in pop_last')\n",
    "        p = self._head\n",
    "        if p.next is None:\n",
    "            e = p.elem\n",
    "            self._head = None\n",
    "            return e\n",
    "        while p.next.next is not None:\n",
    "            p = p.next\n",
    "        e = p.next.elem\n",
    "        p.next = None\n",
    "        return e\n",
    "    \n",
    "    def find(self, pred):\n",
    "        '''找到满足给定条件的第一个元素'''\n",
    "        p = self._head\n",
    "        while p is not None:\n",
    "            if pred(p.elem):\n",
    "                return p.elem\n",
    "            p = p.next\n",
    "            \n",
    "    def printall(self):\n",
    "        '''打印所有元素'''\n",
    "        p = self._head\n",
    "        while p is not None:\n",
    "            print(p.elem, end='')\n",
    "            if p.next is not None:\n",
    "                print(', ', end='')\n",
    "            p = p.next\n",
    "        print('')\n",
    "    \n",
    "    def for_each(self, proc):\n",
    "        '''遍历所有元素并执行给定操作'''\n",
    "        p = self._head\n",
    "        while p is not None:\n",
    "            proc(p.elem)\n",
    "            p = p.next\n",
    "            \n",
    "    def elements(self):\n",
    "        '''遍历并返回所有元素'''\n",
    "        p = self._head\n",
    "        while p is not None:\n",
    "            yield p.elem\n",
    "            p = p.next\n",
    "            \n",
    "    def Lfilter(self, pred):\n",
    "        '''找到所有符和给定条件的元素'''\n",
    "        p = self._head\n",
    "        while p is not None:\n",
    "            if pred(p.elem):\n",
    "                yield p.elem\n",
    "            p = p.next\n",
    "    #以上为书中以为LList定义的操作，下面为在抽象数据类型中有定义，但LList类没定义的所有操作\n",
    "    \n",
    "    def len(self):\n",
    "        '''获得表的长度'''\n",
    "        p = self._head\n",
    "        count = 0\n",
    "        while p is not None:\n",
    "            count += 1\n",
    "            p = p.next\n",
    "        return count\n",
    "    \n",
    "    def insert(self, elem, i):\n",
    "        '''将元素elem加入表中作为第i个元素，其他元素的顺序不变'''\n",
    "        if not (isinstance(i, int) and i >= 1):\n",
    "            raise LinkedListUnderflow('i必须为大于等于1的整数')\n",
    "        p = self._head\n",
    "        if i < 2 or p is None:\n",
    "            self.prepend(elem)\n",
    "        else:\n",
    "            for num in range(i-2):\n",
    "                if p.next is None:\n",
    "                    p.next = LNode(elem)\n",
    "                    return\n",
    "                p = p.next\n",
    "            p.next = LNode(elem, p.next)\n",
    "            \n",
    "    def Ldel(self, i):\n",
    "        '''删除表中第i个元素'''\n",
    "        if not (isinstance(i, int) and i >= 1):\n",
    "            raise LinkedListUnderflow('i必须为大于等于1的整数')\n",
    "        p = self._head\n",
    "        if i < 2 or p is None:\n",
    "            self.pop()\n",
    "        else:\n",
    "            for num in range(i-2):\n",
    "                if p.next is None:\n",
    "                    raise LinkedListUnderflow('i超出索引范围')\n",
    "                p = p.next\n",
    "            p.next = p.next.next\n",
    "            \n",
    "    def search(self, elem):\n",
    "        '''查找元素elem在表中出现的位置，不出现时返回-1'''\n",
    "        p = self._head\n",
    "        if p is None:\n",
    "            return -1\n",
    "        count = 1\n",
    "        while p is not None:\n",
    "            if p.elem == elem:\n",
    "                return count\n",
    "            p = p.next\n",
    "            count += 1\n",
    "        return -1\n",
    "    "
   ]
  },
  {
   "cell_type": "code",
   "execution_count": 41,
   "metadata": {},
   "outputs": [
    {
     "name": "stdout",
     "output_type": "stream",
     "text": [
      "13, 12\n",
      "13, 12, 0, 1, 2, 3, 4\n",
      "7\n",
      "0, 1, 2, 3, 4\n",
      "0, 1, 10, 2, 3, 4, 11\n"
     ]
    },
    {
     "data": {
      "text/plain": [
       "-1"
      ]
     },
     "execution_count": 41,
     "metadata": {},
     "output_type": "execute_result"
    }
   ],
   "source": [
    "list1 = LList()\n",
    "list1.insert(12, 100)\n",
    "list1.insert(13, 1)\n",
    "list1.printall()\n",
    "for i in range(5):\n",
    "    list1.append(i)\n",
    "list1.printall()\n",
    "print(list1.len())\n",
    "list1.Ldel(2)\n",
    "list1.Ldel(1)\n",
    "#list1.Ldel(100)\n",
    "list1.printall()\n",
    "list1.insert(10, 3)\n",
    "list1.insert(11, 10)\n",
    "list1.printall()\n",
    "#list1.insert(5, 0.2)\n",
    "list1.search(3)\n",
    "list1.search(100)"
   ]
  },
  {
   "cell_type": "markdown",
   "metadata": {},
   "source": [
    "**2. 请为LList类增加定位（给定顺序位置的）插入和删除操作。**"
   ]
  },
  {
   "cell_type": "markdown",
   "metadata": {},
   "source": [
    "    详见第一问"
   ]
  },
  {
   "cell_type": "markdown",
   "metadata": {},
   "source": [
    "**3. 给LList增加一个元素计数值域num，并修改类中操作，维护这个计数值。另外定义一个求表中元素个数的len函数。Python的内置标准函数len可以自动调用用户定义类里的相关函数__len__，也可以用它作为方法名。请比较这种实现和原来没有元素计数值域的实现，说明两者各自的优缺点**"
   ]
  },
  {
   "cell_type": "markdown",
   "metadata": {},
   "source": [
    "    没有元素计数值域时，想要获得表的长度需要遍历表一次，为O(n)时间复杂度；有元素计数值域时，获得表的长度为O(1)时间复杂度，但是需要额外的存储空间来存储计数值域并且需要维护该计数值域。"
   ]
  },
  {
   "cell_type": "code",
   "execution_count": 42,
   "metadata": {
    "collapsed": true
   },
   "outputs": [],
   "source": [
    "class LList_v1(LList):\n",
    "    def __init__(self):\n",
    "        LList.__init__(self)\n",
    "        self.num = 0\n",
    "    \n",
    "    def prepend(self, elem):\n",
    "        super().prepend(elem)\n",
    "        self.num += 1\n",
    "        \n",
    "    def pop(self):\n",
    "        super().pop()\n",
    "        self.num -= 1\n",
    "    \n",
    "    def append(self, elem):\n",
    "        super().append(elem)\n",
    "        self.num += 1\n",
    "        \n",
    "    def pop_last(self):\n",
    "        super().pop_last()\n",
    "        self.num -= 1\n",
    "        \n",
    "    def insert(self, elem, i):\n",
    "        super().insert(elem, i)\n",
    "        self.num += 1\n",
    "        \n",
    "    def Ldel(self, i):\n",
    "        super().Ldel(i)\n",
    "        self.num -= 1\n",
    "        \n",
    "    def __len__(self):\n",
    "        return self.num\n",
    "        "
   ]
  },
  {
   "cell_type": "code",
   "execution_count": 43,
   "metadata": {},
   "outputs": [
    {
     "name": "stdout",
     "output_type": "stream",
     "text": [
      "5\n",
      "0, 1, 2, 3, 4\n",
      "6\n",
      "0, 10, 1, 2, 3, 4\n",
      "6\n",
      "(10000, 0.0)\n",
      "(10000, 0.0)\n"
     ]
    }
   ],
   "source": [
    "list2 = LList_v1()\n",
    "for i in range(5):\n",
    "    list2.append(i)\n",
    "print(len(list2))\n",
    "list2.printall()\n",
    "list2.insert(10, 2)\n",
    "print(len(list2))\n",
    "list2.printall()\n",
    "print(list2.len())\n",
    "\n",
    "import time\n",
    "\n",
    "def used_time(lis):\n",
    "    start = time.time()\n",
    "    l = lis.len()\n",
    "    used = time.time() - start\n",
    "    return l, used\n",
    "\n",
    "list3, list4 = LList(), LList_v1()\n",
    "for i in range(10000):\n",
    "    list3.append(i)\n",
    "    list4.append(i)\n",
    "print(used_time(list3))\n",
    "print(used_time(list4))"
   ]
  },
  {
   "cell_type": "markdown",
   "metadata": {},
   "source": [
    "**4. 请基于元素相等操作“==”定义一个单链表的相等比较函数。另请基于字典序的概念，为链接表定义大于、小于、大于等于和小于等于判断。**"
   ]
  },
  {
   "cell_type": "code",
   "execution_count": 44,
   "metadata": {
    "collapsed": true
   },
   "outputs": [],
   "source": [
    "class LList_v2(LList_v1):\n",
    "    def __eq__(self, anothor):\n",
    "        if self.len() != anothor.len():\n",
    "            return False\n",
    "        for i, j in zip(self.elements(), anothor.elements()):\n",
    "            if i != j:\n",
    "                return False\n",
    "        return True\n",
    "    \n",
    "    def __gt__(self, anothor):\n",
    "        if anothor.len() == 0 and self.len() != 0:\n",
    "            return True\n",
    "        for i, j in zip(self.elements(), anothor.elements()):\n",
    "            if i > j:\n",
    "                return True\n",
    "        return False\n",
    "    \n",
    "    def __lt__(self, anothor):\n",
    "        if anothor.len() != 0 and self.len() == 0:\n",
    "            return True\n",
    "        for i, j in zip(self.elements(), anothor.elements()):\n",
    "            if i < j:\n",
    "                return True\n",
    "        return False\n",
    "    \n",
    "    def __ge__(self, anothor):\n",
    "        if self.len() == 0 and anothor.len() != 0:\n",
    "            return False\n",
    "        for i, j in zip(self.elements(), anothor.elements()):\n",
    "            if i < j:\n",
    "                return False\n",
    "        return True\n",
    "    \n",
    "    def __le__(self, anothor):\n",
    "        if self.len() != 0 and anothor.len() == 0:\n",
    "            return False\n",
    "        for i, j in zip(self.elements(), anothor.elements()):\n",
    "            if i > j:\n",
    "                return False\n",
    "        return True"
   ]
  },
  {
   "cell_type": "code",
   "execution_count": 45,
   "metadata": {},
   "outputs": [
    {
     "name": "stdout",
     "output_type": "stream",
     "text": [
      "True\n",
      "False\n",
      "True\n",
      "True\n",
      "False\n",
      "False\n",
      "1, 10, 2, 3, 4\n",
      "0, 1, 2, 3, 4\n",
      "True\n"
     ]
    }
   ],
   "source": [
    "list1 = LList_v2()\n",
    "list2 = LList_v2()\n",
    "print(list1 == list2)\n",
    "print(list1 > list2)\n",
    "print(list1 >= list2)\n",
    "for i in range(5):\n",
    "    list1.append(i)\n",
    "    list2.append(i)\n",
    "print(list1 == list2)\n",
    "list1.pop()\n",
    "print(list1 == list2)\n",
    "list1.insert(10, 2)\n",
    "print(list1 == list2)\n",
    "list1.printall(); list2.printall()\n",
    "print(list1 > list2)"
   ]
  },
  {
   "cell_type": "markdown",
   "metadata": {},
   "source": [
    "**5. 请为链接表定义一个方法，它基于一个顺序表参数构造一个链接表；另请定义一个函数，它从一个链接表构造出一个顺序表。**"
   ]
  },
  {
   "cell_type": "code",
   "execution_count": 46,
   "metadata": {
    "collapsed": true
   },
   "outputs": [],
   "source": [
    "class OList(list):\n",
    "    '''list是顺序表的一个实现，所以用list代表顺序表类'''\n",
    "    pass\n",
    "\n",
    "class LList_v3(LList_v2):\n",
    "    def creat_from_OList(self, OList_):\n",
    "        for i in OList_:\n",
    "            self.append(i)\n",
    "            \n",
    "def creat_OList_from_LList(LList_):\n",
    "    a = OList()\n",
    "    LList_.for_each(a.append)\n",
    "    return a"
   ]
  },
  {
   "cell_type": "code",
   "execution_count": 47,
   "metadata": {},
   "outputs": [
    {
     "name": "stdout",
     "output_type": "stream",
     "text": [
      "1, 2, 3, 4, 5\n",
      "[1, 2, 3, 4, 5]\n"
     ]
    }
   ],
   "source": [
    "a = OList((1, 2, 3, 4, 5))\n",
    "b = LList_v3()\n",
    "b.creat_from_OList(a)\n",
    "b.printall()\n",
    "c = creat_OList_from_LList(b)\n",
    "print(c)"
   ]
  },
  {
   "cell_type": "markdown",
   "metadata": {
    "collapsed": true
   },
   "source": [
    "**6. 请为单链表类增加一个反向遍历方法rev_visit(self, op)，它能按从后向前的顺序把操作op逐个作用于表中元素。你定义的方法在整个遍历中访问结点的总次数与表长度n是什么关系？如果不是线性关系，请设法修改实现，使之达到线性关系。这里要求遍历方法的空间代价是O(1)。（提示：你可以考虑为了遍历而修改表的结构，只要能在遍历的最后将表结构复原）**"
   ]
  },
  {
   "cell_type": "code",
   "execution_count": 48,
   "metadata": {
    "collapsed": true
   },
   "outputs": [],
   "source": [
    "class LList_v4(LList_v3):\n",
    "    def rev_visit(self, op):\n",
    "        p = self._head\n",
    "        if p is None:\n",
    "            return\n",
    "        p.prev = None\n",
    "        while p.next is not None:\n",
    "            p.next.prev = p\n",
    "            p = p.next\n",
    "        while p is not None:\n",
    "            op(p.elem)\n",
    "            if p.prev is None:\n",
    "                del p.prev\n",
    "                break\n",
    "            else:\n",
    "                p = p.prev\n",
    "                del p.next.prev\n",
    "        "
   ]
  },
  {
   "cell_type": "code",
   "execution_count": 49,
   "metadata": {},
   "outputs": [
    {
     "name": "stdout",
     "output_type": "stream",
     "text": [
      "5\n",
      "4\n",
      "3\n",
      "2\n",
      "1\n"
     ]
    }
   ],
   "source": [
    "list1 = LList_v4()\n",
    "list1.creat_from_OList([1, 2, 3, 4, 5])\n",
    "list1.rev_visit(print)"
   ]
  },
  {
   "cell_type": "markdown",
   "metadata": {},
   "source": [
    "**7. 请为单链表类定义下面几个元素删除方法，并保持其他元素的相对顺序:**\n",
    "    - a) del_minimal() 删除当时链表中的最小元素；\n",
    "    - b) del_if(pred) 删除当前链表里所有满足谓词函数pred的元素；\n",
    "    - c) del_duplicate() 删除表中所有重复出现的元素。也就是说，表中任何元素的第一次出现保留不动，后续与之相等的元素都删除。"
   ]
  },
  {
   "cell_type": "code",
   "execution_count": 50,
   "metadata": {
    "collapsed": true
   },
   "outputs": [],
   "source": [
    "class LList_v5(LList_v4):\n",
    "    def del_minimal(self):\n",
    "        p = self._head\n",
    "        if p is None:\n",
    "            raise LinkedListUnderflow('表中没有元素')\n",
    "        if p.next is None:\n",
    "            self._head = None\n",
    "            return\n",
    "        q = p\n",
    "        while p.next is not None:\n",
    "            if p.next.elem < q.elem:\n",
    "                q = p.next\n",
    "                k = p\n",
    "            p = p.next\n",
    "        k.next = k.next.next\n",
    "    \n",
    "    def del_if(self, pred):\n",
    "        p = self._head\n",
    "        if p is None:\n",
    "            raise LinkedListUnderflow('表中没有元素')\n",
    "        while p.next is not None:\n",
    "            if pred(p.next.elem):\n",
    "                p.next = p.next.next\n",
    "            else:\n",
    "                p = p.next\n",
    "        if pred(self._head.elem):\n",
    "            self._head = self._head.next\n",
    "                \n",
    "    def del_duplicate(self):\n",
    "        p = self._head\n",
    "        if p is None:\n",
    "            raise LinkedListUnderflow('表中没有元素')\n",
    "        while p is not None:\n",
    "            q = p\n",
    "            while q.next is not None:\n",
    "                if p.elem == q.next.elem:\n",
    "                    q.next = q.next.next\n",
    "                else:\n",
    "                    q = q.next\n",
    "            p = p.next"
   ]
  },
  {
   "cell_type": "code",
   "execution_count": 51,
   "metadata": {},
   "outputs": [
    {
     "name": "stdout",
     "output_type": "stream",
     "text": [
      "5\n",
      "\n",
      "3, 2, 7, 0, 9\n",
      "3, 2, 7, 9\n",
      "2, 7\n",
      "2, 7, 3, 2, 7, 0, 9\n",
      "2, 7, 3, 0, 9\n"
     ]
    }
   ],
   "source": [
    "list1 = LList_v5()\n",
    "#list1.del_minimal()\n",
    "list1.append(5)\n",
    "list1.del_duplicate()\n",
    "list1.printall()\n",
    "list1.del_minimal()\n",
    "list1.printall()\n",
    "list1.creat_from_OList([3, 2, 7, 0, 9])\n",
    "list1.printall()\n",
    "list1.del_minimal()\n",
    "list1.printall()\n",
    "\n",
    "list1.del_if(lambda x: True if x % 3 == 0 else False)\n",
    "list1.printall()\n",
    "\n",
    "list1.creat_from_OList([3, 2, 7, 0, 9])\n",
    "list1.printall()\n",
    "list1.del_duplicate()\n",
    "list1.printall()"
   ]
  },
  {
   "cell_type": "code",
   "execution_count": 52,
   "metadata": {},
   "outputs": [
    {
     "name": "stdout",
     "output_type": "stream",
     "text": [
      "3, 2, 0, 5, 1, 9\n",
      "3, 2, 5, 1, 9\n"
     ]
    }
   ],
   "source": [
    "list2 = LList_v5()\n",
    "list2.creat_from_OList([3, 2, 0, 5, 1, 9])\n",
    "list2.printall()\n",
    "list2.del_minimal()\n",
    "list2.printall()"
   ]
  },
  {
   "cell_type": "markdown",
   "metadata": {},
   "source": [
    "**8. 请为单链表类定义一个变动方法interleaving(self, another)，它把另一个单链表another的元素交错地加入本单链表。也就是说，结果单链表中的元素是其原有元素与单链表another中元素的一一交错的序列。如果某个表更长，其剩余元素应位于修改后的单链表的最后。**"
   ]
  },
  {
   "cell_type": "code",
   "execution_count": 53,
   "metadata": {
    "collapsed": true
   },
   "outputs": [],
   "source": [
    "class LList_v6(LList_v5):\n",
    "    def interleaving(self, another):\n",
    "        p = self._head\n",
    "        q = LNode('-1')\n",
    "        temp = another.elements()\n",
    "        while p is not None:\n",
    "            try:\n",
    "                p.next = LNode(next(temp), p.next)\n",
    "                q = p.next\n",
    "                p = p.next.next\n",
    "            except StopIteration:\n",
    "                return\n",
    "        p = q\n",
    "        for i in temp:\n",
    "            q.next = LNode(i)\n",
    "            q = q.next\n",
    "        if self._head is None: self._head = p.next"
   ]
  },
  {
   "cell_type": "code",
   "execution_count": 54,
   "metadata": {},
   "outputs": [
    {
     "name": "stdout",
     "output_type": "stream",
     "text": [
      "\n",
      "1, 2, 3\n",
      "1, 2, 3\n",
      "1, 2, 3\n",
      "1, 1, 2, 2, 3, 3\n",
      "1, 1, 2, 1, 3, 2, 2, 3, 3\n",
      "1, 1, 1, 1, 2, 2, 1, 2, 3, 3, 2, 3, 2, 3, 3\n"
     ]
    }
   ],
   "source": [
    "list1 = LList_v6()\n",
    "list2 = LList_v6()\n",
    "list3 = LList_v6()\n",
    "list1.interleaving(list2)\n",
    "list1.printall()\n",
    "\n",
    "list2.creat_from_OList([1, 2, 3])\n",
    "list1.interleaving(list2)\n",
    "list1.printall()\n",
    "\n",
    "list1.interleaving(list3)\n",
    "list1.printall()\n",
    "list2.printall()\n",
    "\n",
    "list1.interleaving(list2)\n",
    "list1.printall()\n",
    "\n",
    "list2.interleaving(list1)\n",
    "list2.printall()\n",
    "\n",
    "list2.interleaving(list1)\n",
    "list2.printall()"
   ]
  },
  {
   "cell_type": "markdown",
   "metadata": {},
   "source": [
    "**9. 考虑实现单链表插入排序的另一个想法：插入排序也就是把要排序的元素一个个按序插入到一个元素已经排好序的链表里，从空链表开始。请根据这个想法实现另一个完成单链表排序的插入排序函数。**"
   ]
  },
  {
   "cell_type": "code",
   "execution_count": 55,
   "metadata": {
    "collapsed": true
   },
   "outputs": [],
   "source": [
    "def sort_list(lst):\n",
    "    l = LList_v6()\n",
    "    temp = lst.elements()\n",
    "    if not lst.is_empty(): l.prepend(next(temp))\n",
    "    for i in temp:\n",
    "        count = 1; exist = False\n",
    "        for j in l.elements():\n",
    "            if j > i:\n",
    "                l.insert(i, count)\n",
    "                exist = True\n",
    "                break\n",
    "            count += 1\n",
    "        if not exist: l.append(i)\n",
    "    return l"
   ]
  },
  {
   "cell_type": "code",
   "execution_count": 56,
   "metadata": {},
   "outputs": [
    {
     "name": "stdout",
     "output_type": "stream",
     "text": [
      "\n",
      "5\n",
      "5, 3, 2, 7, 6, 8, 8, 1\n",
      "1, 2, 3, 5, 6, 7, 8, 8\n"
     ]
    }
   ],
   "source": [
    "list1 = LList_v6()\n",
    "sort_list(list1)\n",
    "list1.printall()\n",
    "list1.append(5)\n",
    "sort_list(list1)\n",
    "list1.printall()\n",
    "list1.creat_from_OList([3, 2, 7, 6, 8, 8, 1])\n",
    "list1.printall()\n",
    "list2 = sort_list(list1)\n",
    "list2.printall()"
   ]
  },
  {
   "cell_type": "markdown",
   "metadata": {},
   "source": [
    "**10. 定义一个单链表剖分函数partition(lst, pred)，其参数为单链表lst和谓词函数pred，函数partition返回一对单链表（一个序对），其中第一个单链表包含着原链表lst里所有满足pred的结点，第二个链表里是所有其他结点。注意，两个表里的结点还应保持原表里结点的相对顺序。也就是说，如果在某结果表里结点a的后继结点是b，在原表lst里a一定位于b之前。**"
   ]
  },
  {
   "cell_type": "code",
   "execution_count": 57,
   "metadata": {
    "collapsed": true
   },
   "outputs": [],
   "source": [
    "def partition(lst, pred):\n",
    "    if lst.is_empty(): raise LinkedListUnderflow('表为空')\n",
    "    a, b = LList_v6(), LList_v6()\n",
    "    lst.for_each(lambda x: a.append(x) if pred(x) else b.append(x))\n",
    "    return a, b"
   ]
  },
  {
   "cell_type": "code",
   "execution_count": 58,
   "metadata": {},
   "outputs": [
    {
     "name": "stdout",
     "output_type": "stream",
     "text": [
      "1, 2, 3, 4, 5\n",
      "2, 4\n",
      "1, 3, 5\n"
     ]
    }
   ],
   "source": [
    "list1 = LList_v6()\n",
    "#partition(list1, lambda x: True if x % 2 == 0 else False)\n",
    "list1.creat_from_OList([1, 2, 3, 4, 5])\n",
    "list1.printall()\n",
    "a, b = partition(list1, lambda x: True if x % 2 == 0 else False)\n",
    "a.printall()\n",
    "b.printall()"
   ]
  },
  {
   "cell_type": "markdown",
   "metadata": {},
   "source": [
    "**11. 扩充本章给出的循环单链表类CLList，实现LList1中有定义的所有方法。**"
   ]
  },
  {
   "cell_type": "code",
   "execution_count": 59,
   "metadata": {
    "collapsed": true
   },
   "outputs": [],
   "source": [
    "class CLList:\n",
    "    '''循环单链表类'''\n",
    "    def __init__(self):\n",
    "        self._rear = None\n",
    "    \n",
    "    def is_empty(self):\n",
    "        return self._rear is None\n",
    "    \n",
    "    def prepend(self, elem):\n",
    "        '''首端插入'''\n",
    "        p = LNode(elem)\n",
    "        if self._rear is None:\n",
    "            p.next = p\n",
    "            self._rear = p\n",
    "        else:\n",
    "            p.next = self._rear.next\n",
    "            self._rear.next = p\n",
    "            \n",
    "    def append(self, elem):\n",
    "        '''尾端插入'''\n",
    "        self.prepend(elem)\n",
    "        self._rear = self._rear.next\n",
    "        \n",
    "    def pop(self):\n",
    "        '''首端弹出'''\n",
    "        if self._rear is None:\n",
    "            raise LinkedListUnderflow('in pop of CLList')\n",
    "        p = self._rear.next\n",
    "        if self._rear is p:\n",
    "            self._rear = None\n",
    "        else:\n",
    "            self._rear.next = p.next\n",
    "        return p.elem\n",
    "    \n",
    "    def printall(self):\n",
    "        '''输出表元素，书上方法的定义输出效果并不好看，但是还是按照书上的来定义，效果更好的方法定义可参考如下：\n",
    "        p = self._rear\n",
    "        while p is not None:\n",
    "            p = p.next\n",
    "            if p is self._rear:\n",
    "                print(p.elem, end='')\n",
    "                break\n",
    "            print(p.elem, end=', ')\n",
    "        print('')'''\n",
    "        if self.is_empty():\n",
    "            return\n",
    "        p = self._rear.next\n",
    "        while True:\n",
    "            print(p.elem)\n",
    "            if p is self._rear:\n",
    "                break\n",
    "            p = p.next\n",
    "            \n",
    "    #以上为本章给出的循环单链表类CLList方法，以下为LList1中有定义的而本章没有为CLList给出的方法\n",
    "    \n",
    "    def pop_last(self):\n",
    "        '''尾端删除元素并返回'''\n",
    "        if self._rear is None:\n",
    "            raise LinkedListUnderflow('in pop of CLList')\n",
    "        p = self._rear.next\n",
    "        e = self._rear.elem\n",
    "        if p is self._rear:\n",
    "            self._rear = None\n",
    "            return e\n",
    "        while p.next is not self._rear:\n",
    "            p = p.next\n",
    "        p.next = self._rear.next\n",
    "        self._rear = p\n",
    "        return e\n",
    "    \n",
    "    def find(self, pred):\n",
    "        '''找到满足给定条件的第一个元素'''\n",
    "        if self._rear is None: return\n",
    "        p = self._rear.next\n",
    "        while 1:\n",
    "            if pred(p.elem):\n",
    "                return p.elem\n",
    "            p = p.next\n",
    "            if p is self._rear.next: break\n",
    "                \n",
    "    def for_each(self, proc):\n",
    "        '''遍历所有元素并执行给定操作'''\n",
    "        if self._rear is None: return\n",
    "        p = self._rear.next\n",
    "        while 1:\n",
    "            proc(p.elem)\n",
    "            p = p.next\n",
    "            if p is self._rear.next: break\n",
    "                \n",
    "    def elements(self):\n",
    "        '''遍历并返回所有元素'''\n",
    "        if self._rear is None: return\n",
    "        p = self._rear.next\n",
    "        while 1:\n",
    "            yield p.elem\n",
    "            p = p.next\n",
    "            if p is self._rear.next: break\n",
    "    \n",
    "    def Lfilter(self, pred):\n",
    "        '''找到所有符和给定条件的元素'''\n",
    "        if self._rear is None: return\n",
    "        p = self._rear.next\n",
    "        while 1:\n",
    "            if pred(p.elem):\n",
    "                yield p.elem\n",
    "            p = p.next\n",
    "            if p is self._rear.next: break\n",
    "    \n",
    "    def len(self):\n",
    "        '''获得表的长度'''\n",
    "        count = 0\n",
    "        p = self._rear\n",
    "        while self._rear is not None:\n",
    "            count += 1\n",
    "            p = p.next\n",
    "            if p.next is self._rear.next: break\n",
    "        return count\n",
    "    \n",
    "    def insert(self, elem, i):\n",
    "        '''将元素elem加入表中作为第i个元素，其他元素的顺序不变'''\n",
    "        if not (isinstance(i, int) and i >= 1):\n",
    "            raise LinkedListUnderflow('i必须为大于等于1的整数')\n",
    "        if i > self.len():\n",
    "            self.append(elem)\n",
    "        else:\n",
    "            p = self._rear\n",
    "            for num in range(i-1):\n",
    "                p = p.next\n",
    "            p.next = LNode(elem, p.next)\n",
    "                \n",
    "    def Ldel(self, i):\n",
    "        '''删除表中第i个元素'''\n",
    "        if not (isinstance(i, int) and i >= 1):\n",
    "            raise LinkedListUnderflow('i必须为大于等于1的整数')\n",
    "        length = self.len()\n",
    "        if i > length: raise LinkedListUnderflow('i超出索引范围或删除空表')\n",
    "        if i == length:\n",
    "            self.pop_last()\n",
    "        else:\n",
    "            p = self._rear\n",
    "            for num in range(i-1):\n",
    "                p = p.next\n",
    "            p.next = p.next.next\n",
    "    \n",
    "    def search(self, elem):\n",
    "        '''查找元素elem在表中出现的位置，不出现时返回-1'''\n",
    "        p = self._rear\n",
    "        count = 1\n",
    "        while p is not None:\n",
    "            p = p.next\n",
    "            if elem == p.elem:\n",
    "                return count\n",
    "            if p is self._rear: break\n",
    "            count += 1 \n",
    "        return -1"
   ]
  },
  {
   "cell_type": "code",
   "execution_count": 60,
   "metadata": {},
   "outputs": [
    {
     "name": "stdout",
     "output_type": "stream",
     "text": [
      "0\n",
      "1\n",
      "2\n",
      "3\n",
      "4\n",
      "0\n",
      "1\n",
      "2\n",
      "3\n",
      "4\n",
      "clist1's length is: 5\n",
      "0 1 2 3 4 \n",
      "4\n",
      "0\n",
      "1\n",
      "2\n",
      "3\n",
      "3 2 1 0 \n",
      "3\n",
      "5\n"
     ]
    }
   ],
   "source": [
    "clist1 = CLList()\n",
    "for i in range(5):\n",
    "    clist1.append(i)\n",
    "clist1.printall()\n",
    "clist1.for_each(print)\n",
    "print('clist1\\'s length is: %d' % clist1.len())\n",
    "for i in clist1.elements():\n",
    "    print(i, end=' ')\n",
    "print()\n",
    "print(clist1.pop_last())\n",
    "clist1.printall()\n",
    "for i in range(4):\n",
    "    print(clist1.pop_last(), end=' ')\n",
    "\n",
    "for i in range(5):\n",
    "    clist1.append(i)\n",
    "print()\n",
    "print(clist1.find(lambda x: True if x == 3 else False))\n",
    "clist2 = CLList(); clist2.append(5)\n",
    "clist2.find(lambda x: True if x == 3 else False)\n",
    "print(clist2.find(lambda x: True if x == 5 else False))"
   ]
  },
  {
   "cell_type": "code",
   "execution_count": 61,
   "metadata": {},
   "outputs": [
    {
     "name": "stdout",
     "output_type": "stream",
     "text": [
      "1\n",
      "2\n",
      "1\n",
      "231\n",
      "21\n",
      "2\n",
      "-1\n",
      "01234\n",
      "4\n",
      "-1\n",
      "1\n",
      "5\n"
     ]
    }
   ],
   "source": [
    "list1 = CLList()\n",
    "list1.insert(1, 10)\n",
    "list1.printall()\n",
    "list1.insert(2, 1)\n",
    "list1.printall()\n",
    "list1.insert(3, 2)#231\n",
    "for i in list1.elements():\n",
    "    print(i, end='')\n",
    "print()\n",
    "list1.Ldel(2)\n",
    "list1.for_each(lambda x: print(x, end=''))#21\n",
    "list1.Ldel(2)\n",
    "print()\n",
    "list1.for_each(lambda x: print(x, end=''))#2\n",
    "print()\n",
    "list1.Ldel(1)\n",
    "list1.for_each(lambda x: print(x, end=''))\n",
    "\n",
    "list1 = CLList()\n",
    "print(list1.search(5))\n",
    "for i in range(5):\n",
    "    list1.append(i)\n",
    "list1.for_each(lambda x: print(x, end=''))\n",
    "print()\n",
    "print(list1.search(3))\n",
    "print(list1.search(5))\n",
    "print(list1.search(0))\n",
    "print(list1.search(4))"
   ]
  },
  {
   "cell_type": "markdown",
   "metadata": {},
   "source": [
    "**12. 请为循环单链表类扩充一个方法interleaving(self, another)，要求见上面针对简单单链表的有关习题。**"
   ]
  },
  {
   "cell_type": "code",
   "execution_count": 62,
   "metadata": {
    "collapsed": true
   },
   "outputs": [],
   "source": [
    "class CLList_v1(CLList):\n",
    "    def interleaving(self, another):\n",
    "        p = self._rear\n",
    "        for each in another.elements():\n",
    "            if p is None:\n",
    "                self.append(each)\n",
    "            else:\n",
    "                p = p.next\n",
    "                p.next = LNode(each, p.next)\n",
    "                if p is self._rear:\n",
    "                    self._rear = p.next\n",
    "                    continue\n",
    "                p = p.next\n",
    "                "
   ]
  },
  {
   "cell_type": "code",
   "execution_count": 63,
   "metadata": {},
   "outputs": [
    {
     "name": "stdout",
     "output_type": "stream",
     "text": [
      "\n",
      "01234\n",
      "0011223344\n",
      "000112132423344\n",
      "00102031412132423344\n",
      "10, 0, 0, 0, 1, 1, 2, 1, 3, 2, 4, 2, 3, 3, 4, 4, "
     ]
    }
   ],
   "source": [
    "list1 = CLList_v1()\n",
    "list2 = CLList_v1()\n",
    "list3 = CLList_v1()\n",
    "list1.interleaving(list2)\n",
    "list1.printall()\n",
    "print()\n",
    "for i in range(5):\n",
    "    list2.append(i)\n",
    "list1.interleaving(list2)\n",
    "list1.for_each(lambda x: print(x, end=''))#01234\n",
    "print()\n",
    "list1.interleaving(list2)\n",
    "list1.for_each(lambda x: print(x, end=''))#0011223344\n",
    "print()\n",
    "list1.interleaving(list2)\n",
    "list1.for_each(lambda x: print(x, end=''))#000112132423344\n",
    "print()\n",
    "list2.interleaving(list1)\n",
    "list2.for_each(lambda x: print(x, end=''))#00102031412132423344\n",
    "print()\n",
    "list3.append(10)\n",
    "list3.interleaving(list1)\n",
    "list3.for_each(lambda x: print(x, end=', '))"
   ]
  },
  {
   "cell_type": "markdown",
   "metadata": {},
   "source": [
    "**13. 请为循环单链表类定义前面各习题中针对简单单链表类提出的方法。**"
   ]
  },
  {
   "cell_type": "code",
   "execution_count": 77,
   "metadata": {
    "collapsed": true
   },
   "outputs": [],
   "source": [
    "class CLList_v2(CLList_v1):\n",
    "    def __init__(self):\n",
    "        super().__init__()\n",
    "        self.num = 0\n",
    "        \n",
    "    def __len__(self):\n",
    "        return self.num\n",
    "    \n",
    "    def prepend(self, elem):\n",
    "        super().prepend(elem)\n",
    "        self.num += 1\n",
    "    \n",
    "    def pop(self):\n",
    "        super().pop()\n",
    "        self.num -= 1\n",
    "    \n",
    "    def append(self, elem):\n",
    "        super().append(elem)\n",
    "        self.num += 1\n",
    "        \n",
    "    def pop_last(self):\n",
    "        super().pop_last()\n",
    "        self.num -= 1\n",
    "        \n",
    "    def insert(self, elem, i):\n",
    "        super().insert(elem, i)\n",
    "        self.num += 1\n",
    "        \n",
    "    def Ldel(self, i):\n",
    "        super().Ldel(i)\n",
    "        self.num -= 1\n",
    "        \n",
    "    #以上为第三题提出的方法\n",
    "     \n",
    "    def __eq__(self, anothor):\n",
    "        if self.len() != anothor.len():\n",
    "            return False\n",
    "        for i, j in zip(self.elements(), anothor.elements()):\n",
    "            if i != j:\n",
    "                return False\n",
    "        return True\n",
    "    \n",
    "    def __gt__(self, anothor):\n",
    "        if anothor.len() == 0 and self.len() != 0:\n",
    "            return True\n",
    "        for i, j in zip(self.elements(), anothor.elements()):\n",
    "            if i > j:\n",
    "                return True\n",
    "        return False\n",
    "    \n",
    "    def __lt__(self, anothor):\n",
    "        if anothor.len() != 0 and self.len() == 0:\n",
    "            return True\n",
    "        for i, j in zip(self.elements(), anothor.elements()):\n",
    "            if i < j:\n",
    "                return True\n",
    "        return False\n",
    "    \n",
    "    def __ge__(self, anothor):\n",
    "        if self.len() == 0 and anothor.len() != 0:\n",
    "            return False\n",
    "        for i, j in zip(self.elements(), anothor.elements()):\n",
    "            if i < j:\n",
    "                return False\n",
    "        return True\n",
    "    \n",
    "    def __le__(self, anothor):\n",
    "        if self.len() != 0 and anothor.len() == 0:\n",
    "            return False\n",
    "        for i, j in zip(self.elements(), anothor.elements()):\n",
    "            if i > j:\n",
    "                return False\n",
    "        return True\n",
    "    \n",
    "    #以上为第四题提出的方法\n",
    "    \n",
    "    def creat_from_OList(self, OList_):\n",
    "        for i in OList_:\n",
    "            self.append(i)\n",
    "    \n",
    "    #以上为第五题提出的方法\n",
    "    \n",
    "    def rev_visit(self, op):\n",
    "        p = self._rear\n",
    "        if p is None:\n",
    "            return\n",
    "        p = p.next\n",
    "        p.prev = None\n",
    "        while p is not self._rear:\n",
    "            p.next.prev = p\n",
    "            p = p.next\n",
    "        while p is not None:\n",
    "            op(p.elem)\n",
    "            if p.prev is None:\n",
    "                del p.prev\n",
    "                break\n",
    "            else:\n",
    "                p = p.prev\n",
    "                del p.next.prev\n",
    "    \n",
    "    #以上为第六题提出的方法\n",
    "    \n",
    "    def del_minimal(self):\n",
    "        if self._rear is None:\n",
    "            raise LinkedListUnderflow('表中没有元素')\n",
    "        p = self._rear.next\n",
    "        if p is self._rear:\n",
    "            self._rear = None\n",
    "            return\n",
    "        q = self._rear\n",
    "        while p is not self._rear:\n",
    "            if p.next.elem < q.next.elem:\n",
    "                q = p\n",
    "            p = p.next\n",
    "        if q.next is self._rear:\n",
    "            self._rear = q\n",
    "        q.next = q.next.next\n",
    "    \n",
    "    def del_if(self, pred):\n",
    "        p = self._rear\n",
    "        if p is None:\n",
    "            raise LinkedListUnderflow('表中没有元素')\n",
    "        while p.next is not self._rear:\n",
    "            if pred(p.next.elem):\n",
    "                p.next = p.next.next\n",
    "            else:\n",
    "                p = p.next\n",
    "        if pred(p.next.elem):\n",
    "            if p is self._rear:\n",
    "                self._rear = None\n",
    "            else:\n",
    "                self.pop_last()\n",
    "                \n",
    "    def del_duplicate(self):\n",
    "        p = self._rear\n",
    "        if p is None:\n",
    "            raise LinkedListUnderflow('表中没有元素')\n",
    "        p = p.next\n",
    "        while p is not self._rear:\n",
    "            q = p\n",
    "            while q is not self._rear:\n",
    "                if p.elem == q.next.elem:\n",
    "                    q.next = q.next.next\n",
    "                    if q.next is self._rear.next:\n",
    "                        self._rear = q    \n",
    "                else:\n",
    "                    q = q.next\n",
    "            p = p.next\n",
    "            \n",
    "    #以上为第七题提出的方法 "
   ]
  },
  {
   "cell_type": "code",
   "execution_count": 84,
   "metadata": {},
   "outputs": [
    {
     "name": "stdout",
     "output_type": "stream",
     "text": [
      "5,4,3,2,1,\n",
      "3, 2, 0, 5, 1, 9, \n",
      "3, 2, 5, 1, 9, "
     ]
    }
   ],
   "source": [
    "list1 = CLList_v2()\n",
    "list1.creat_from_OList([1, 2, 3, 4, 5])\n",
    "list1.rev_visit(lambda x: print(x, end=','))\n",
    "print()\n",
    "list2 = CLList_v2()\n",
    "list2.creat_from_OList([3, 2, 0, 5, 1, 9])\n",
    "list2.for_each(lambda x: print(x, end=', '))\n",
    "list2.del_minimal(); print()\n",
    "list2.for_each(lambda x: print(x, end=', '))"
   ]
  },
  {
   "cell_type": "code",
   "execution_count": 85,
   "metadata": {},
   "outputs": [
    {
     "name": "stdout",
     "output_type": "stream",
     "text": [
      "2, \n",
      "\n",
      "5\n",
      "5, 2, 3, 8, 2, 5, 3, \n",
      "5, 2, 3, 8, \n"
     ]
    }
   ],
   "source": [
    "list2.del_if(lambda x: True if x % 2 != 0 else False)\n",
    "list2.for_each(lambda x: print(x, end=', '))\n",
    "print()\n",
    "list2.del_if(lambda x: True if x==2 else False)\n",
    "list2.printall(); print()\n",
    "\n",
    "list3 = CLList_v2()\n",
    "list3.creat_from_OList([5])\n",
    "list3.del_duplicate()\n",
    "list3.printall()\n",
    "list3.creat_from_OList([2, 3, 8, 2, 5, 3])\n",
    "list3.for_each(lambda x: print(x, end=', ')); print()\n",
    "list3.del_duplicate()\n",
    "list3.for_each(lambda x: print(x, end=', ')); print()"
   ]
  },
  {
   "cell_type": "markdown",
   "metadata": {},
   "source": [
    "**14. 请基于Python的list实现一个元素排序的顺序表类，其中元素按“<”关系从大到小排序存放。考虑需要定义的方法并给出定义，包括一个方法merge(self, another)，其参数another是另一个排序顺序表。该方法将another的元素加入本顺序表，并保证结果表中的数据仍是正确排序的。**"
   ]
  },
  {
   "cell_type": "code",
   "execution_count": null,
   "metadata": {
    "collapsed": true
   },
   "outputs": [],
   "source": []
  },
  {
   "cell_type": "markdown",
   "metadata": {},
   "source": [
    "**15. 请从简单单链表类派生一个排序单链表类，表中元素按“<”关系从小到大排序存放。首先考虑需要覆盖的方法并给出定义。为该类增加方法merge(self, another)，参数another也是排序单链表。该方法将链表another的元素加入本链表，并保证结果链表中的数据仍是正确排序的。**"
   ]
  },
  {
   "cell_type": "code",
   "execution_count": null,
   "metadata": {
    "collapsed": true
   },
   "outputs": [],
   "source": []
  },
  {
   "cell_type": "markdown",
   "metadata": {},
   "source": [
    "**16. 请为双链表类定义reverse方法和sort方法，要求通过搬移结点中数据的方式实现这两个操作。**"
   ]
  },
  {
   "cell_type": "code",
   "execution_count": null,
   "metadata": {
    "collapsed": true
   },
   "outputs": [],
   "source": []
  },
  {
   "cell_type": "markdown",
   "metadata": {},
   "source": [
    "**17. 请为双链表类定义reverse1方法和sort1方法，要求操作中不移动结点中的数据，只修改结点之间的链接。**"
   ]
  },
  {
   "cell_type": "code",
   "execution_count": null,
   "metadata": {
    "collapsed": true
   },
   "outputs": [],
   "source": []
  },
  {
   "cell_type": "markdown",
   "metadata": {},
   "source": [
    "**18. 实现双链表排序的一种可能做法是直接利用单链表的排序函数，只将结点按next方向正确排序链接，最后重新建立prev链接关系。请基于这个想法为双链表类实现一个排序方法，其中直接调用单链表类的插入排序方法。**"
   ]
  },
  {
   "cell_type": "code",
   "execution_count": null,
   "metadata": {
    "collapsed": true
   },
   "outputs": [],
   "source": []
  },
  {
   "cell_type": "markdown",
   "metadata": {},
   "source": [
    "**19. 请实现一个循环双链表类。**"
   ]
  },
  {
   "cell_type": "code",
   "execution_count": null,
   "metadata": {
    "collapsed": true
   },
   "outputs": [],
   "source": []
  },
  {
   "cell_type": "markdown",
   "metadata": {},
   "source": [
    "**20. 请考虑一种在一个结点里存储16个元素的单向链接表，定义一个类实现这种链表，为这个类定义各种重要的线性表操作。请从各方面比较这种实现与每个结点存储一个元素的简单实现。**"
   ]
  },
  {
   "cell_type": "code",
   "execution_count": null,
   "metadata": {
    "collapsed": true
   },
   "outputs": [],
   "source": []
  },
  {
   "cell_type": "markdown",
   "metadata": {},
   "source": [
    "**21. 利用（顺序或链接）表和第2章的人事记录类，实现一个简单的学校人事管理系统。首先分析问题，描述一个人事管理ADT，而后实现这个系统。由于不需生成多个实例，可以用类的数据属性保存人事信息（的表），用一组类方法实现必要操作。这是一种在Python语言中建立单例（singleton）数据抽象的技术。**"
   ]
  },
  {
   "cell_type": "code",
   "execution_count": null,
   "metadata": {
    "collapsed": true
   },
   "outputs": [],
   "source": []
  },
  {
   "cell_type": "markdown",
   "metadata": {},
   "source": [
    "**22. 利用链接表实现一种大整数类BigInt。用一个链表表示一个大整数，表中每个结点保存一位十进制整数，这样，任意长的链表就可以保存任意长的整数了。请实现这种大整数的各种重要运算。**"
   ]
  },
  {
   "cell_type": "code",
   "execution_count": null,
   "metadata": {
    "collapsed": true
   },
   "outputs": [],
   "source": []
  },
  {
   "cell_type": "markdown",
   "metadata": {},
   "source": [
    "**23. 链接表里的结点都是独立存在的对象，有可能脱离原来所在的表，或者从一个表转移到另一个表。从表对象出发通过遍历可以访问表中的每个结点（及数据），而从一个表结点出发则无法确定它属于哪个表（或者不属于任何一个表）。请分析这个问题，考虑在什么场景下确定结点的归属问题有重要意义。考虑下面的技术：为每个结点增加一个“表指针”指向其所属的表。定义一个类实现这种表。**"
   ]
  },
  {
   "cell_type": "code",
   "execution_count": null,
   "metadata": {
    "collapsed": true
   },
   "outputs": [],
   "source": []
  }
 ],
 "metadata": {
  "kernelspec": {
   "display_name": "Python 3",
   "language": "python",
   "name": "python3"
  },
  "language_info": {
   "codemirror_mode": {
    "name": "ipython",
    "version": 3
   },
   "file_extension": ".py",
   "mimetype": "text/x-python",
   "name": "python",
   "nbconvert_exporter": "python",
   "pygments_lexer": "ipython3",
   "version": "3.6.2"
  }
 },
 "nbformat": 4,
 "nbformat_minor": 2
}
