{
 "cells": [
  {
   "cell_type": "markdown",
   "metadata": {},
   "source": [
    "# 第三章    线性表"
   ]
  },
  {
   "cell_type": "markdown",
   "metadata": {},
   "source": [
    "**1. 检查本章开始定义的线性表抽象数据类型和3.3节定义的链表类LList，给LList加入在抽象数据类型中有定义，但LList类没定义的所有操作。**"
   ]
  },
  {
   "cell_type": "markdown",
   "metadata": {},
   "source": [
    "     线性表抽象数据类型为：\n",
    "     ADT List:\n",
    "         List(self)                #表构造操作，创建一个新表\n",
    "         is_empty(self)            #判断self是否为一个空表\n",
    "         len(self)                 #获得self的长度\n",
    "         prepend(self, elem)       #将元素elem加入表中作为第一个元素\n",
    "         append(self, elem)        #将元素elem加入表中作为最后一个元素\n",
    "         insert(self, elem, i)     #将元素elem加入表中作为第i个元素，其他元素的顺序不变\n",
    "         del_first(self)           #删除表中的首元素\n",
    "         del_last(self)            #删除表中的尾元素\n",
    "         del(self, i)              #删除表中第i个元素\n",
    "         search(self, elem)        #查找元素elem在表中出现的位置，不出现时返回-1\n",
    "         forall(self, op)          #对表中的每个元素执行操作op"
   ]
  },
  {
   "cell_type": "code",
   "execution_count": 1,
   "metadata": {
    "collapsed": true
   },
   "outputs": [],
   "source": [
    "class LNode:\n",
    "    def __init__(self, elem, next_=None):\n",
    "        self.elem = elem\n",
    "        self.next = next_\n",
    "\n",
    "class LinkedListUnderflow(ValueError):\n",
    "    pass\n",
    "        \n",
    "class LList:\n",
    "    '''单链表类'''\n",
    "    def __init__(self):\n",
    "        self._head = None\n",
    "    \n",
    "    def is_empty(self):\n",
    "        '''判断表是否为空'''\n",
    "        return self._head is None\n",
    "    \n",
    "    def prepend(self, elem):\n",
    "        '''首端加入元素'''\n",
    "        self._head = LNode(elem, self._head)\n",
    "    \n",
    "    def pop(self):\n",
    "        '''首端删除表元素并返回'''\n",
    "        if self._head is None:\n",
    "            raise LinkedListUnderflow('in pop')\n",
    "        e = self._head.elem\n",
    "        self._head = self._head.next\n",
    "        return e\n",
    "        \n",
    "    def append(self, elem):\n",
    "        '''尾端加入元素'''\n",
    "        if self._head is None:\n",
    "            self._head = LNode(elem)\n",
    "            return\n",
    "        p = self._head\n",
    "        while p.next is not None:\n",
    "            p = p.next\n",
    "        p.next = LNode(elem)\n",
    "\n",
    "    def pop_last(self):\n",
    "        '''尾端删除元素并返回'''\n",
    "        if self._head is None:\n",
    "            raise LinkedListUnderflow('in pop_last')\n",
    "        p = self._head\n",
    "        if p.next is None:\n",
    "            e = p.elem\n",
    "            self._head = None\n",
    "            return e\n",
    "        while p.next.next is not None:\n",
    "            p = p.next\n",
    "        e = p.next.elem\n",
    "        p.next = None\n",
    "        return e\n",
    "    \n",
    "    def find(self, pred):\n",
    "        '''找到满足给定条件的第一个元素'''\n",
    "        p = self._head\n",
    "        while p is not None:\n",
    "            if pred(p.elem):\n",
    "                return p.elem\n",
    "            p = p.next\n",
    "            \n",
    "    def printall(self):\n",
    "        '''打印所有元素'''\n",
    "        p = self._head\n",
    "        while p is not None:\n",
    "            print(p.elem, end='')\n",
    "            if p.next is not None:\n",
    "                print(', ', end='')\n",
    "            p = p.next\n",
    "        print('')\n",
    "    \n",
    "    def for_each(self, proc):\n",
    "        '''遍历所有元素并执行给定操作'''\n",
    "        p = self._head\n",
    "        while p is not None:\n",
    "            proc(p.elem)\n",
    "            p = p.next\n",
    "            \n",
    "    def elements(self):\n",
    "        '''遍历并返回所有元素'''\n",
    "        p = self._head\n",
    "        while p is not None:\n",
    "            yield p.elem\n",
    "            p = p.next\n",
    "            \n",
    "    def Lfilter(self, pred):\n",
    "        '''找到所有符号给定条件的元素'''\n",
    "        p = self._head\n",
    "        while p is not None:\n",
    "            if pred(p.elem):\n",
    "                yield p.elem\n",
    "            p = p.next\n",
    "    #以上为书中以为LList定义的操作，下面为在抽象数据类型中有定义，但LList类没定义的所有操作\n",
    "    \n",
    "    def len(self):\n",
    "        '''获得表的长度'''\n",
    "        p = self._head\n",
    "        count = 0\n",
    "        while p is not None:\n",
    "            count += 1\n",
    "            p = p.next\n",
    "        return count\n",
    "    \n",
    "    def insert(self, elem, i):\n",
    "        '''将元素elem加入表中作为第i个元素，其他元素的顺序不变'''\n",
    "        if not (isinstance(i, int) and i >= 1):\n",
    "            raise LinkedListUnderflow('i必须为大于等于1的整数')\n",
    "        p = self._head\n",
    "        if i < 2 or p is None:\n",
    "            self.prepend(elem)\n",
    "        else:\n",
    "            for num in range(i-2):\n",
    "                if p.next is None:\n",
    "                    p.next = LNode(elem)\n",
    "                    return\n",
    "                p = p.next\n",
    "            p.next = LNode(elem, p.next)\n",
    "            \n",
    "    def Ldel(self, i):\n",
    "        '''删除表中第i个元素'''\n",
    "        if not (isinstance(i, int) and i >= 1):\n",
    "            raise LinkedListUnderflow('i必须为大于等于1的整数')\n",
    "        p = self._head\n",
    "        if i < 2 or p is None:\n",
    "            self.pop()\n",
    "        else:\n",
    "            for num in range(i-2):\n",
    "                if p.next is None:\n",
    "                    raise LinkedListUnderflow('i超出索引范围')\n",
    "                p = p.next\n",
    "            p.next = p.next.next\n",
    "            \n",
    "    def search(self, elem):\n",
    "        p = self._head\n",
    "        if p is None:\n",
    "            return -1\n",
    "        count = 1\n",
    "        while p is not None:\n",
    "            if p.elem == elem:\n",
    "                return count\n",
    "            p = p.next\n",
    "            count += 1\n",
    "        return -1\n",
    "    "
   ]
  },
  {
   "cell_type": "code",
   "execution_count": 2,
   "metadata": {},
   "outputs": [
    {
     "name": "stdout",
     "output_type": "stream",
     "text": [
      "13, 12\n",
      "13, 12, 0, 1, 2, 3, 4\n",
      "7\n",
      "0, 1, 2, 3, 4\n",
      "0, 1, 10, 2, 3, 4, 11\n"
     ]
    },
    {
     "data": {
      "text/plain": [
       "-1"
      ]
     },
     "execution_count": 2,
     "metadata": {},
     "output_type": "execute_result"
    }
   ],
   "source": [
    "list1 = LList()\n",
    "list1.insert(12, 100)\n",
    "list1.insert(13, 1)\n",
    "list1.printall()\n",
    "for i in range(5):\n",
    "    list1.append(i)\n",
    "list1.printall()\n",
    "print(list1.len())\n",
    "list1.Ldel(2)\n",
    "list1.Ldel(1)\n",
    "#list1.Ldel(100)\n",
    "list1.printall()\n",
    "list1.insert(10, 3)\n",
    "list1.insert(11, 10)\n",
    "list1.printall()\n",
    "#list1.insert(5, 0.2)\n",
    "list1.search(3)\n",
    "list1.search(100)"
   ]
  },
  {
   "cell_type": "markdown",
   "metadata": {},
   "source": [
    "**2. 请为LList类增加定位（给定顺序位置的）插入和删除操作。**"
   ]
  },
  {
   "cell_type": "markdown",
   "metadata": {},
   "source": [
    "    详见第一问"
   ]
  },
  {
   "cell_type": "markdown",
   "metadata": {},
   "source": [
    "**3. 给LList增加一个元素计数值域num，并修改类中操作，维护这个计数值。另外定义一个求表中元素个数的len函数。Python的内置标准函数len可以自动调用用户定义类里的相关函数__len__，也可以用它作为方法名。请比较这种实现和原来没有元素计数值域的实现，说明两者各自的优缺点**"
   ]
  },
  {
   "cell_type": "markdown",
   "metadata": {},
   "source": [
    "    没有元素计数值域时，想要获得表的长度需要遍历表一次，为O(n)时间复杂度；有元素计数值域时，获得表的长度为O(1)时间复杂度，但是需要额外的存储空间来存储计数值域并且需要维护该计数值域。"
   ]
  },
  {
   "cell_type": "code",
   "execution_count": 3,
   "metadata": {
    "collapsed": true
   },
   "outputs": [],
   "source": [
    "class LList_v1(LList):\n",
    "    def __init__(self):\n",
    "        LList.__init__(self)\n",
    "        self.num = 0\n",
    "    \n",
    "    def prepend(self, elem):\n",
    "        super().prepend(elem)\n",
    "        self.num += 1\n",
    "        \n",
    "    def pop(self):\n",
    "        super().pop()\n",
    "        self.num -= 1\n",
    "    \n",
    "    def append(self, elem):\n",
    "        super().append(elem)\n",
    "        self.num += 1\n",
    "        \n",
    "    def pop_last(self):\n",
    "        super().pop_last()\n",
    "        self.num -= 1\n",
    "        \n",
    "    def insert(self, elem, i):\n",
    "        super().insert(elem, i)\n",
    "        self.num += 1\n",
    "        \n",
    "    def Ldel(self, i):\n",
    "        super().Ldel(i)\n",
    "        self.num -= 1\n",
    "        \n",
    "    def __len__(self):\n",
    "        return self.num\n",
    "        "
   ]
  },
  {
   "cell_type": "code",
   "execution_count": 8,
   "metadata": {},
   "outputs": [
    {
     "name": "stdout",
     "output_type": "stream",
     "text": [
      "5\n",
      "0, 1, 2, 3, 4\n",
      "6\n",
      "0, 10, 1, 2, 3, 4\n",
      "6\n",
      "(10000, 0.0)\n",
      "(10000, 0.0009980201721191406)\n"
     ]
    }
   ],
   "source": [
    "list2 = LList_v1()\n",
    "for i in range(5):\n",
    "    list2.append(i)\n",
    "print(len(list2))\n",
    "list2.printall()\n",
    "list2.insert(10, 2)\n",
    "print(len(list2))\n",
    "list2.printall()\n",
    "print(list2.len())\n",
    "\n",
    "import time\n",
    "\n",
    "def used_time(lis):\n",
    "    start = time.time()\n",
    "    l = lis.len()\n",
    "    used = time.time() - start\n",
    "    return l, used\n",
    "\n",
    "list3, list4 = LList(), LList_v1()\n",
    "for i in range(10000):\n",
    "    list3.append(i)\n",
    "    list4.append(i)\n",
    "print(used_time(list3))\n",
    "print(used_time(list4))"
   ]
  },
  {
   "cell_type": "markdown",
   "metadata": {},
   "source": [
    "**4. 请基于元素相等操作“==”定义一个单链表的相等比较函数。另请基于字典序的概念，为链接表定义大于、小于、大于等于和小于等于判断。**"
   ]
  },
  {
   "cell_type": "code",
   "execution_count": 28,
   "metadata": {},
   "outputs": [],
   "source": [
    "class LList_v2(LList_v1):\n",
    "    def __eq__(self, anothor):\n",
    "        if self.len() != anothor.len():\n",
    "            return False\n",
    "        for i, j in zip(self.elements(), anothor.elements()):\n",
    "            if i != j:\n",
    "                return False\n",
    "        return True\n",
    "    \n",
    "    def __gt__(self, anothor):\n",
    "        if anothor.len() == 0 and self.len() != 0:\n",
    "            return True\n",
    "        for i, j in zip(self.elements(), anothor.elements()):\n",
    "            if i > j:\n",
    "                return True\n",
    "        return False\n",
    "    \n",
    "    def __lt__(self, anothor):\n",
    "        if anothor.len() != 0 and self.len() == 0:\n",
    "            return True\n",
    "        for i, j in zip(self.elements(), anothor.elements()):\n",
    "            if i < j:\n",
    "                return True\n",
    "        return False\n",
    "    \n",
    "    def __ge__(self, anothor):\n",
    "        if self.len() == 0 and anothor.len() != 0:\n",
    "            return False\n",
    "        for i, j in zip(self.elements(), anothor.elements()):\n",
    "            if i < j:\n",
    "                return False\n",
    "        return True\n",
    "    \n",
    "    def __le__(self, anothor):\n",
    "        if self.len() != 0 and anothor.len() == 0:\n",
    "            return False\n",
    "        for i, j in zip(self.elements(), anothor.elements()):\n",
    "            if i > j:\n",
    "                return False\n",
    "        return True"
   ]
  },
  {
   "cell_type": "code",
   "execution_count": 33,
   "metadata": {},
   "outputs": [
    {
     "name": "stdout",
     "output_type": "stream",
     "text": [
      "True\n",
      "False\n",
      "True\n",
      "True\n",
      "False\n",
      "False\n",
      "1, 10, 2, 3, 4\n",
      "0, 1, 2, 3, 4\n",
      "True\n"
     ]
    }
   ],
   "source": [
    "list1 = LList_v2()\n",
    "list2 = LList_v2()\n",
    "print(list1 == list2)\n",
    "print(list1 > list2)\n",
    "print(list1 >= list2)\n",
    "for i in range(5):\n",
    "    list1.append(i)\n",
    "    list2.append(i)\n",
    "print(list1 == list2)\n",
    "list1.pop()\n",
    "print(list1 == list2)\n",
    "list1.insert(10, 2)\n",
    "print(list1 == list2)\n",
    "list1.printall(); list2.printall()\n",
    "print(list1 > list2)"
   ]
  },
  {
   "cell_type": "markdown",
   "metadata": {},
   "source": [
    "**5. 请为链接表定义一个方法，它基于一个顺序表参数构造一个链接表；另请定义一个函数，它从一个链接表构造出一个顺序表。**"
   ]
  },
  {
   "cell_type": "code",
   "execution_count": null,
   "metadata": {
    "collapsed": true
   },
   "outputs": [],
   "source": []
  }
 ],
 "metadata": {
  "kernelspec": {
   "display_name": "Python 3",
   "language": "python",
   "name": "python3"
  },
  "language_info": {
   "codemirror_mode": {
    "name": "ipython",
    "version": 3
   },
   "file_extension": ".py",
   "mimetype": "text/x-python",
   "name": "python",
   "nbconvert_exporter": "python",
   "pygments_lexer": "ipython3",
   "version": "3.6.2"
  }
 },
 "nbformat": 4,
 "nbformat_minor": 2
}
